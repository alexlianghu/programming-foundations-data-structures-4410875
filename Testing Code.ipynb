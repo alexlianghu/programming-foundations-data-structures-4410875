{
 "cells": [
  {
   "cell_type": "code",
   "execution_count": 1,
   "id": "bc691804",
   "metadata": {},
   "outputs": [],
   "source": [
    "user_preferences = {\n",
    "    \"timezone\": \"GMT\",\n",
    "    \"language\": \"English\",\n",
    "    \"notifications\": None,\n",
    "    \"currency\": \"USD\",\n",
    "    \"theme\": None\n",
    "}"
   ]
  },
  {
   "cell_type": "code",
   "execution_count": 6,
   "id": "516f1ca1",
   "metadata": {},
   "outputs": [],
   "source": [
    "def update_preferences(user_pref):\n",
    "    tmpDict = user_pref.copy()\n",
    "    for key, value in user_pref.items():\n",
    "        if value is None:\n",
    "            del (tmpDict[key])\n",
    "    return tmpDict"
   ]
  },
  {
   "cell_type": "code",
   "execution_count": 7,
   "id": "5d973b9d",
   "metadata": {},
   "outputs": [
    {
     "name": "stdout",
     "output_type": "stream",
     "text": [
      "{'timezone': 'GMT', 'language': 'English', 'currency': 'USD'}\n"
     ]
    }
   ],
   "source": [
    "print(update_preferences(user_preferences))"
   ]
  },
  {
   "cell_type": "code",
   "execution_count": 8,
   "id": "1026f1f2",
   "metadata": {},
   "outputs": [
    {
     "name": "stdout",
     "output_type": "stream",
     "text": [
      "Printing TaylorSwiftTickets.pdf\n",
      "Printing MarketingNotes.docx\n",
      "Printing Proof.png\n"
     ]
    }
   ],
   "source": [
    "from collections import deque\n",
    "\n",
    "printer_queue = deque()\n",
    "printer_queue.append(\"TaylorSwiftTickets.pdf\")\n",
    "printer_queue.append(\"MarketingNotes.docx\")\n",
    "printer_queue.append(\"Proof.png\")\n",
    "\n",
    "while len(printer_queue) > 0:\n",
    "    document = printer_queue.popleft()\n",
    "    print(f'Printing {document}')"
   ]
  },
  {
   "cell_type": "code",
   "execution_count": 9,
   "id": "2d8a8da3",
   "metadata": {},
   "outputs": [],
   "source": [
    "from collections import deque\n",
    "\n",
    "printer_queue = deque()\n",
    "printer_queue.append(\"TaylorSwiftTickets.pdf\")\n",
    "printer_queue.append(\"MarketingNotes.docx\")\n",
    "printer_queue.append(\"Proof.png\")"
   ]
  },
  {
   "cell_type": "code",
   "execution_count": null,
   "id": "2ae7d445",
   "metadata": {},
   "outputs": [],
   "source": []
  }
 ],
 "metadata": {
  "kernelspec": {
   "display_name": "Python 3 (ipykernel)",
   "language": "python",
   "name": "python3"
  },
  "language_info": {
   "codemirror_mode": {
    "name": "ipython",
    "version": 3
   },
   "file_extension": ".py",
   "mimetype": "text/x-python",
   "name": "python",
   "nbconvert_exporter": "python",
   "pygments_lexer": "ipython3",
   "version": "3.11.4"
  }
 },
 "nbformat": 4,
 "nbformat_minor": 5
}
